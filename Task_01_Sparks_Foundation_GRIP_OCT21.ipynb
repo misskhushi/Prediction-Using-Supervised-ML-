{
  "nbformat": 4,
  "nbformat_minor": 0,
  "metadata": {
    "colab": {
      "name": "Task-01 Sparks Foundation-GRIP OCT21",
      "provenance": [],
      "collapsed_sections": []
    },
    "kernelspec": {
      "name": "python3",
      "display_name": "Python 3"
    },
    "language_info": {
      "name": "python"
    }
  },
  "cells": [
    {
      "cell_type": "markdown",
      "metadata": {
        "id": "PZezfEMLIxdA"
      },
      "source": [
        "#**KHUSHI SINGHAL**\n",
        "###**Task-01**\n",
        "####**Prediction Using Supervised ML**\n",
        "####**Predicting the percentage of an Student based on the no. of Study Hours**\n"
      ]
    },
    {
      "cell_type": "markdown",
      "metadata": {
        "id": "gebxzaFwJ7ph"
      },
      "source": [
        "##**Importing Libraries**"
      ]
    },
    {
      "cell_type": "code",
      "metadata": {
        "id": "BIlPVMCpIVcJ"
      },
      "source": [
        "import numpy as np\n",
        "import pandas as pd\n",
        "import matplotlib.pyplot as plt  "
      ],
      "execution_count": null,
      "outputs": []
    },
    {
      "cell_type": "markdown",
      "metadata": {
        "id": "Ze2dPi8DK311"
      },
      "source": [
        "##**Reading Dataset**"
      ]
    },
    {
      "cell_type": "code",
      "metadata": {
        "id": "FZ7UXxWJJ6pj"
      },
      "source": [
        "dataset = pd.read_csv('Student_scores.csv')"
      ],
      "execution_count": null,
      "outputs": []
    },
    {
      "cell_type": "markdown",
      "metadata": {
        "id": "gjU6nQswNPaG"
      },
      "source": [
        "##**Information About Data**"
      ]
    },
    {
      "cell_type": "code",
      "metadata": {
        "id": "Qm_IXPVaLhhZ"
      },
      "source": [
        "dataset.info()"
      ],
      "execution_count": null,
      "outputs": []
    },
    {
      "cell_type": "code",
      "metadata": {
        "id": "uvVLx3ocNZMm"
      },
      "source": [
        "dataset.describe()"
      ],
      "execution_count": null,
      "outputs": []
    },
    {
      "cell_type": "code",
      "metadata": {
        "id": "EqELxa9qNcwx"
      },
      "source": [
        "dataset.head(10)"
      ],
      "execution_count": null,
      "outputs": []
    },
    {
      "cell_type": "code",
      "metadata": {
        "colab": {
          "base_uri": "https://localhost:8080/"
        },
        "id": "TgT_wsSoQXSz",
        "outputId": "7a92716e-85c5-4e96-8f0b-ce93c3247fd5"
      },
      "source": [
        "dataset.shape"
      ],
      "execution_count": null,
      "outputs": [
        {
          "output_type": "execute_result",
          "data": {
            "text/plain": [
              "(25, 2)"
            ]
          },
          "metadata": {},
          "execution_count": 31
        }
      ]
    },
    {
      "cell_type": "markdown",
      "metadata": {
        "id": "NMJmN2HYNt7i"
      },
      "source": [
        "##**Checking Null Values**"
      ]
    },
    {
      "cell_type": "code",
      "metadata": {
        "colab": {
          "base_uri": "https://localhost:8080/"
        },
        "id": "E7p8pfa0NlXI",
        "outputId": "06fd0338-c84b-474d-e4f9-2d9395f6e9d4"
      },
      "source": [
        "dataset.isnull().sum()"
      ],
      "execution_count": null,
      "outputs": [
        {
          "output_type": "execute_result",
          "data": {
            "text/plain": [
              "Hours     0\n",
              "Scores    0\n",
              "dtype: int64"
            ]
          },
          "metadata": {},
          "execution_count": 13
        }
      ]
    },
    {
      "cell_type": "markdown",
      "metadata": {
        "id": "pSKmCdSbOEQk"
      },
      "source": [
        "##**Plotting the dataset on Graph**"
      ]
    },
    {
      "cell_type": "code",
      "metadata": {
        "colab": {
          "base_uri": "https://localhost:8080/",
          "height": 295
        },
        "id": "cbJSgkB0Nxg3",
        "outputId": "7b578f86-176a-48f6-8cfb-3a53f023ec42"
      },
      "source": [
        "# Plotting the distribution of scores\n",
        "dataset.plot(x='Hours', y='Scores', style='o')  \n",
        "plt.title('Hours vs Percentage')  \n",
        "plt.xlabel('Hours Studied')  \n",
        "plt.ylabel('Percentage Hours')  \n",
        "plt.show()"
      ],
      "execution_count": null,
      "outputs": [
        {
          "output_type": "display_data",
          "data": {
            "image/png": "[encoded data removed]",
            "text/plain": [
              "<Figure size 432x288 with 1 Axes>"
            ]
          },
          "metadata": {
            "needs_background": "light"
          }
        }
      ]
    },
    {
      "cell_type": "markdown",
      "metadata": {
        "id": "6xA21l5qRlY6"
      },
      "source": [
        "##**Preaparing Data**"
      ]
    },
    {
      "cell_type": "code",
      "metadata": {
        "id": "kngXPruJOWfu"
      },
      "source": [
        "X = dataset.iloc[:, :-1].values  \n",
        "y = dataset.iloc[:, 1].values  \n",
        "X,y"
      ],
      "execution_count": null,
      "outputs": []
    },
    {
      "cell_type": "code",
      "metadata": {
        "id": "6rhL-J80PHLq"
      },
      "source": [
        "from sklearn.model_selection import train_test_split  \n",
        "X_train, X_test, y_train, y_test = train_test_split(X, y, test_size=0.2, random_state=9) "
      ],
      "execution_count": null,
      "outputs": []
    },
    {
      "cell_type": "markdown",
      "metadata": {
        "id": "HrHXnYZ_Q2nH"
      },
      "source": [
        "##**Model Training**"
      ]
    },
    {
      "cell_type": "code",
      "metadata": {
        "colab": {
          "base_uri": "https://localhost:8080/"
        },
        "id": "n_qVPHFuP1hA",
        "outputId": "e03be742-af36-4d91-e7e4-30bf7c42f86e"
      },
      "source": [
        "from sklearn.linear_model import LinearRegression  \n",
        "model = LinearRegression()  \n",
        "model.fit(X_train, y_train) \n",
        "print('****Model Trained****')"
      ],
      "execution_count": null,
      "outputs": [
        {
          "output_type": "stream",
          "name": "stdout",
          "text": [
            "****Model Trained****\n"
          ]
        }
      ]
    },
    {
      "cell_type": "code",
      "metadata": {
        "colab": {
          "base_uri": "https://localhost:8080/"
        },
        "id": "cPwTji1WRFmH",
        "outputId": "086aba41-9f0c-4994-eed7-6bc3cfc4665f"
      },
      "source": [
        "model.coef_"
      ],
      "execution_count": null,
      "outputs": [
        {
          "output_type": "execute_result",
          "data": {
            "text/plain": [
              "array([9.97185491])"
            ]
          },
          "metadata": {},
          "execution_count": 34
        }
      ]
    },
    {
      "cell_type": "code",
      "metadata": {
        "colab": {
          "base_uri": "https://localhost:8080/"
        },
        "id": "cKKikHclR0os",
        "outputId": "2daa74f2-0c4d-495b-c389-ceffad24388f"
      },
      "source": [
        "model.intercept_"
      ],
      "execution_count": null,
      "outputs": [
        {
          "output_type": "execute_result",
          "data": {
            "text/plain": [
              "2.1957915598041424"
            ]
          },
          "metadata": {},
          "execution_count": 35
        }
      ]
    },
    {
      "cell_type": "code",
      "metadata": {
        "colab": {
          "base_uri": "https://localhost:8080/",
          "height": 265
        },
        "id": "kuR7nrpBR5vO",
        "outputId": "f60286c9-b838-4fc3-c323-7379a33f2d44"
      },
      "source": [
        "# Plotting the regression line\n",
        "line = model.coef_*X+model.intercept_\n",
        "\n",
        "# Plotting for the test data\n",
        "plt.scatter(X, y)\n",
        "plt.plot(X, line);\n",
        "plt.show()"
      ],
      "execution_count": null,
      "outputs": [
        {
          "output_type": "display_data",
          "data": {
            "image/png": "[encoded data removed]",
            "text/plain": [
              "<Figure size 432x288 with 1 Axes>"
            ]
          },
          "metadata": {
            "needs_background": "light"
          }
        }
      ]
    },
    {
      "cell_type": "markdown",
      "metadata": {
        "id": "g0vv_WpoTFCB"
      },
      "source": [
        "##**Making Predictions**"
      ]
    },
    {
      "cell_type": "code",
      "metadata": {
        "colab": {
          "base_uri": "https://localhost:8080/"
        },
        "id": "YH9GdXtGSedz",
        "outputId": "2902c276-ff6b-4791-db1f-20fffc4a4409"
      },
      "source": [
        "X_test"
      ],
      "execution_count": null,
      "outputs": [
        {
          "output_type": "execute_result",
          "data": {
            "text/plain": [
              "array([[3.5],\n",
              "       [2.7],\n",
              "       [1.5],\n",
              "       [8.5],\n",
              "       [5.5]])"
            ]
          },
          "metadata": {},
          "execution_count": 41
        }
      ]
    },
    {
      "cell_type": "code",
      "metadata": {
        "colab": {
          "base_uri": "https://localhost:8080/"
        },
        "id": "iCi3JwbLTVtS",
        "outputId": "974e7ac8-79f3-4c79-9f3c-5038f9aa8f45"
      },
      "source": [
        "print(X_test) # Testing data - In Hours\n",
        "y_pred = model.predict(X_test) # Predicting the scores"
      ],
      "execution_count": null,
      "outputs": [
        {
          "output_type": "stream",
          "name": "stdout",
          "text": [
            "[[3.5]\n",
            " [2.7]\n",
            " [1.5]\n",
            " [8.5]\n",
            " [5.5]]\n"
          ]
        }
      ]
    },
    {
      "cell_type": "code",
      "metadata": {
        "id": "5xhgshyRThe5"
      },
      "source": [
        "# Comparing Actual vs Predicted\n",
        "df = pd.DataFrame({'Actual': y_test, 'Predicted': y_pred})  \n",
        "df "
      ],
      "execution_count": null,
      "outputs": []
    },
    {
      "cell_type": "markdown",
      "metadata": {
        "id": "0fLFPJNEUjga"
      },
      "source": [
        "##**Evaluating the Model**"
      ]
    },
    {
      "cell_type": "code",
      "metadata": {
        "colab": {
          "base_uri": "https://localhost:8080/"
        },
        "id": "oNIepqMyUtzM",
        "outputId": "459994ae-0a19-4096-954f-7b7e273ebc10"
      },
      "source": [
        "from sklearn.metrics import mean_absolute_error\n",
        "score= mean_absolute_error(y_test, y_pred)\n",
        "print(\"The Mean Absolute Error is: \",score)"
      ],
      "execution_count": null,
      "outputs": [
        {
          "output_type": "stream",
          "name": "stdout",
          "text": [
            "The Mean Absolute Error is:  5.795814875262298\n"
          ]
        }
      ]
    },
    {
      "cell_type": "markdown",
      "metadata": {
        "id": "vmlY6vKST1Fa"
      },
      "source": [
        "##***Predicted Score if a Student Studies for 9.25hrs***"
      ]
    },
    {
      "cell_type": "code",
      "metadata": {
        "colab": {
          "base_uri": "https://localhost:8080/"
        },
        "id": "VM7U_Z6lToSu",
        "outputId": "8f5bc126-3bd8-454a-88c3-805b4c6b257e"
      },
      "source": [
        "hours=np.array([9.25]).reshape(1,-1)\n",
        "p= model.predict(hours)\n",
        "print(\"No of Hours = {}\".format(hours))\n",
        "print(\"Score of Student = {}\".format(p[0]))"
      ],
      "execution_count": null,
      "outputs": [
        {
          "output_type": "stream",
          "name": "stdout",
          "text": [
            "No of Hours = [[9.25]]\n",
            "Score of Student = 94.43544948872531\n"
          ]
        }
      ]
    },
    {
      "cell_type": "markdown",
      "metadata": {
        "id": "nBvIHxuWW0Ph"
      },
      "source": [
        "####If a Student Study 9.25 hours he may be Score 94.43 percent"
      ]
    },
    {
      "cell_type": "code",
      "metadata": {
        "id": "4BkiMrlCUFgk"
      },
      "source": [
        ""
      ],
      "execution_count": null,
      "outputs": []
    }
  ]
}